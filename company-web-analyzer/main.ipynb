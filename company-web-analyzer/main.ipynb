{
 "cells": [
  {
   "cell_type": "code",
   "execution_count": 20,
   "id": "6e42fd70",
   "metadata": {},
   "outputs": [],
   "source": [
    "import os\n",
    "import json\n",
    "from typing import List\n",
    "from dotenv import load_dotenv\n",
    "from bs4 import BeautifulSoup\n",
    "from IPython.display import Markdown, display\n",
    "from openai import OpenAI\n",
    "\n",
    "import sys\n",
    "sys.path.append(\"..\")\n",
    "\n",
    "from shared.utils.Website import Website\n",
    "from filter_links import filter_links\n",
    "from web_analyzer import analyze_website"
   ]
  },
  {
   "cell_type": "code",
   "execution_count": 21,
   "id": "11bde8a8",
   "metadata": {},
   "outputs": [],
   "source": [
    "load_dotenv(override=True)\n",
    "api_key = os.getenv('OPENAI_API_KEY')\n",
    "MODEL = 'gpt-4o-mini'\n",
    "openai = OpenAI()"
   ]
  },
  {
   "cell_type": "code",
   "execution_count": 22,
   "id": "704def00",
   "metadata": {},
   "outputs": [],
   "source": [
    "royal_url = \"https://royalfx.co.id\"\n",
    "web = Website(royal_url)"
   ]
  },
  {
   "cell_type": "code",
   "execution_count": 23,
   "id": "0343c4e9",
   "metadata": {},
   "outputs": [],
   "source": [
    "filtered_links = filter_links(MODEL, royal_url)"
   ]
  },
  {
   "cell_type": "code",
   "execution_count": 24,
   "id": "5fc1a0eb",
   "metadata": {},
   "outputs": [
    {
     "data": {
      "text/plain": [
       "{'links': [{'type': 'home page', 'url': 'https://royalfx.co.id/'},\n",
       "  {'type': 'about page',\n",
       "   'url': 'https://royalfx.co.id/index.php/profil-perusahaan/'},\n",
       "  {'type': 'legal page', 'url': 'https://royalfx.co.id/index.php/legalitas/'},\n",
       "  {'type': 'forex page', 'url': 'https://royalfx.co.id/index.php/forex/'},\n",
       "  {'type': 'educational page', 'url': 'https://royalfx.co.id/edukasi/'},\n",
       "  {'type': 'gold description page',\n",
       "   'url': 'https://royalfx.co.id/index.php/gold-description/'},\n",
       "  {'type': 'oil description page',\n",
       "   'url': 'https://royalfx.co.id/oil-description/'},\n",
       "  {'type': 'platform page',\n",
       "   'url': 'https://royalfx.co.id/index.php/platform/'},\n",
       "  {'type': 'news page', 'url': 'https://news.royalfx.co.id/'},\n",
       "  {'type': 'faq page',\n",
       "   'url': 'https://royalfx.co.id/index.php/demo-web-rtf-cloned-10/tanya-jawab/'}]}"
      ]
     },
     "execution_count": 24,
     "metadata": {},
     "output_type": "execute_result"
    }
   ],
   "source": [
    "filtered_links"
   ]
  },
  {
   "cell_type": "code",
   "execution_count": 25,
   "id": "4711cacd",
   "metadata": {},
   "outputs": [],
   "source": [
    "result = analyze_website(MODEL, \"Royal Trust Futures\", \"https://royalfx.co.id\")"
   ]
  },
  {
   "cell_type": "code",
   "execution_count": 26,
   "id": "fdae1695",
   "metadata": {},
   "outputs": [
    {
     "data": {
      "text/markdown": [
       "# Royal Trust Futures - Empowering Traders Worldwide\n",
       "\n",
       "**About Us**\n",
       "Royal Trust Futures, trading under the brand ROYALFX, is a licensed brokerage firm recognized by BAPPEBTI, dedicated to providing accessible and innovative trading solutions to customers in the financial markets. Our mission is to empower traders globally by offering tools and platforms that enable seamless access to various assets including Forex, commodities like Crude Oil and Loco London.\n",
       "\n",
       "---\n",
       "\n",
       "**Company Culture**\n",
       "At Royal Trust Futures, we believe in creating an inclusive and supportive environment for traders of all levels. Our culture emphasizes:\n",
       "\n",
       "- **Integrity**: We promote transparency and accountability in all our dealings.\n",
       "- **Innovation**: We leverage cutting-edge technology to provide an enhanced trading experience.\n",
       "- **Support**: Our dedicated customer service team is available 24/7 to assist traders with their inquiries and needs.\n",
       "\n",
       "---\n",
       "\n",
       "**Our Customers**\n",
       "We cater to a diverse global clientele, ranging from novice traders to experienced investors. Our services empower over 890,000 traders worldwide, facilitating them in sharing strategies and insights through our advanced community trading platform, FOLLOWME.\n",
       "\n",
       "---\n",
       "\n",
       "**Career Opportunities**\n",
       "Royal Trust Futures is always looking for passionate individuals to join our team. We offer exciting career paths in various fields including:\n",
       "\n",
       "- **Trading Operations**: Be part of a dynamic trading environment where innovation meets practice.\n",
       "- **Customer Support**: Help fellow traders navigate their trading journeys.\n",
       "- **Research and Analysis**: Contribute to our market analysis and help traders make informed decisions.\n",
       "\n",
       "---\n",
       "\n",
       "**Why Choose Us?**\n",
       "- **No Requotes Market Execution**: Experience rapid market execution without delays, ensuring you never miss an opportunity.\n",
       "- **User-friendly Trading Platform**: Our platform, powered by MetaTrader 4, is accessible on multiple devices and designed for ease of use.\n",
       "- **Educational Resources**: Utilize our free tutorials, webinars, and e-books to sharpen your trading skills and market understanding.\n",
       "- **Quick Withdrawals**: Experience fast fund withdrawals on the same day during business hours.\n",
       "- **Risk Management Tools**: Benefit from tools like stop loss to manage trades effectively and minimize risks.\n",
       "\n",
       "---\n",
       "\n",
       "Join us at Royal Trust Futures and step into the world of trading with confidence. Discover the potential of global financial markets today! \n",
       "\n",
       "**Contact Us**\n",
       "For more information, reach out to our support team:\n",
       "- Phone: 021 30304129 | 0852 1007 6719 | 0877 4904 0042\n",
       "- Email: support@royalfx.co.id\n",
       "\n",
       "**[Sign Up Now](#)** and start your trading journey with us!"
      ],
      "text/plain": [
       "<IPython.core.display.Markdown object>"
      ]
     },
     "metadata": {},
     "output_type": "display_data"
    }
   ],
   "source": [
    "display(Markdown(result))"
   ]
  },
  {
   "cell_type": "code",
   "execution_count": null,
   "id": "2b083894",
   "metadata": {},
   "outputs": [],
   "source": []
  }
 ],
 "metadata": {
  "kernelspec": {
   "display_name": "venv",
   "language": "python",
   "name": "python3"
  },
  "language_info": {
   "codemirror_mode": {
    "name": "ipython",
    "version": 3
   },
   "file_extension": ".py",
   "mimetype": "text/x-python",
   "name": "python",
   "nbconvert_exporter": "python",
   "pygments_lexer": "ipython3",
   "version": "3.11.5"
  }
 },
 "nbformat": 4,
 "nbformat_minor": 5
}
