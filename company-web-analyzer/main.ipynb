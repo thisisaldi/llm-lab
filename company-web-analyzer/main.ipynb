{
 "cells": [
  {
   "cell_type": "code",
   "execution_count": 1,
   "id": "6e42fd70",
   "metadata": {},
   "outputs": [],
   "source": [
    "import os\n",
    "import requests\n",
    "import json\n",
    "from typing import List\n",
    "from dotenv import load_dotenv\n",
    "from bs4 import BeautifulSoup\n",
    "from IPython.display import Markdown, display, update_display\n",
    "from openai import OpenAI\n",
    "\n",
    "import sys\n",
    "sys.path.append(\"..\")\n",
    "\n",
    "from shared.utils.Website import Website"
   ]
  },
  {
   "cell_type": "code",
   "execution_count": 2,
   "id": "11bde8a8",
   "metadata": {},
   "outputs": [],
   "source": [
    "load_dotenv(override=True)\n",
    "api_key = os.getenv('OPENAI_API_KEY')\n",
    "MODEL = 'gpt-4o-mini'\n",
    "openai = OpenAI()"
   ]
  },
  {
   "cell_type": "code",
   "execution_count": 3,
   "id": "4e64dbf6",
   "metadata": {},
   "outputs": [],
   "source": [
    "link_filter_system_prompt = \"\"\"\n",
    "You are the decider who are able to decide which links that are provided is relevant about the company. \n",
    "The links given are from a webpage that has been scraped, some may not be relevant, some are relevant.\n",
    "Your job is to filter which links are relevant. I will give an example of the answer that you must strictly follow:\n",
    "{\n",
    "    \"links\": [\n",
    "        {\"type\": \"something page\", \"url\": \"https://example.com/to/do\"},\n",
    "        {\"type\": \"about page\", \"url\": \"https://another.example.com/about\"}\n",
    "    ]\n",
    "}\n",
    "\"\"\""
   ]
  },
  {
   "cell_type": "code",
   "execution_count": 4,
   "id": "d937a6db",
   "metadata": {},
   "outputs": [
    {
     "name": "stdout",
     "output_type": "stream",
     "text": [
      "\n",
      "You are the decider who are able to decide which links that are provided is relevant about the company. \n",
      "The links given are from a webpage that has been scraped, some may not be relevant, some are relevant.\n",
      "Your job is to filter which links are relevant. I will give an example of the answer that you must strictly follow:\n",
      "{\n",
      "    \"links\": [\n",
      "        {\"type\": \"something page\", \"url\": \"https://example.com/to/do\"},\n",
      "        {\"type\": \"about page\", \"url\": \"https://another.example.com/about\"}\n",
      "    ]\n",
      "}\n",
      "\n"
     ]
    }
   ],
   "source": [
    "print(link_filter_system_prompt)"
   ]
  },
  {
   "cell_type": "code",
   "execution_count": 5,
   "id": "9dc04fcf",
   "metadata": {},
   "outputs": [],
   "source": [
    "def link_filter_user_prompt(website):\n",
    "    user_prompt = f\"Here is the list of links on the website of {website.url} - \"\n",
    "    user_prompt += \"please decide which of these are relevant web links for a brochure about the company, respond with the full https URL in JSON format. \\\n",
    "Do not include Terms of Service, Privacy, email links.\\n\"\n",
    "    user_prompt += \"Links (some might be relative links):\\n\"\n",
    "    user_prompt += \"\\n\".join(website.links)\n",
    "    return user_prompt"
   ]
  },
  {
   "cell_type": "code",
   "execution_count": 6,
   "id": "e05a229e",
   "metadata": {},
   "outputs": [],
   "source": [
    "def filter_links(url):\n",
    "    website = Website(url)\n",
    "    response = openai.chat.completions.create(\n",
    "        model=MODEL,\n",
    "        messages=[\n",
    "            {\"role\": \"system\", \"content\": link_filter_system_prompt},\n",
    "            {\"role\": \"user\", \"content\": link_filter_user_prompt(website)}\n",
    "      ],\n",
    "        response_format={\"type\": \"json_object\"}\n",
    "    )\n",
    "    result = response.choices[0].message.content\n",
    "    return json.loads(result)"
   ]
  },
  {
   "cell_type": "code",
   "execution_count": 7,
   "id": "704def00",
   "metadata": {},
   "outputs": [],
   "source": [
    "royal_url = \"https://royalfx.co.id\"\n",
    "web = Website(royal_url)"
   ]
  },
  {
   "cell_type": "code",
   "execution_count": 8,
   "id": "0343c4e9",
   "metadata": {},
   "outputs": [],
   "source": [
    "filtered_links = filter_links(royal_url)"
   ]
  },
  {
   "cell_type": "code",
   "execution_count": 9,
   "id": "5fc1a0eb",
   "metadata": {},
   "outputs": [
    {
     "data": {
      "text/plain": [
       "{'links': [{'type': 'home page', 'url': 'https://royalfx.co.id/'},\n",
       "  {'type': 'company profile page',\n",
       "   'url': 'https://royalfx.co.id/index.php/profil-perusahaan/'},\n",
       "  {'type': 'legal page', 'url': 'https://royalfx.co.id/index.php/legalitas/'},\n",
       "  {'type': 'forex page', 'url': 'https://royalfx.co.id/index.php/forex/'},\n",
       "  {'type': 'loco london page',\n",
       "   'url': 'https://royalfx.co.id/index.php/loco-london/'},\n",
       "  {'type': 'crude oil page',\n",
       "   'url': 'https://royalfx.co.id/index.php/crude-oil/'},\n",
       "  {'type': 'platform page',\n",
       "   'url': 'https://royalfx.co.id/index.php/platform/'},\n",
       "  {'type': 'education page', 'url': 'https://royalfx.co.id/edukasi/'},\n",
       "  {'type': 'forex description page',\n",
       "   'url': 'https://royalfx.co.id/index.php/forex-description/'},\n",
       "  {'type': 'gold description page',\n",
       "   'url': 'https://royalfx.co.id/index.php/gold-description/'},\n",
       "  {'type': 'oil description page',\n",
       "   'url': 'https://royalfx.co.id/oil-description/'},\n",
       "  {'type': 'news page', 'url': 'https://news.royalfx.co.id/'}]}"
      ]
     },
     "execution_count": 9,
     "metadata": {},
     "output_type": "execute_result"
    }
   ],
   "source": [
    "filtered_links"
   ]
  },
  {
   "cell_type": "code",
   "execution_count": 10,
   "id": "f721f544",
   "metadata": {},
   "outputs": [],
   "source": [
    "def get_website_details(url):\n",
    "    result = \"Landing page:\\n\"\n",
    "    result += Website(url).get_contents()\n",
    "    links = filter_links(url)\n",
    "    for link in links[\"links\"]:\n",
    "        result += f\"\\n\\n{link['type']}\\n\"\n",
    "        result += Website(link[\"url\"]).get_contents()\n",
    "    return result"
   ]
  },
  {
   "cell_type": "code",
   "execution_count": 16,
   "id": "80bb6b47",
   "metadata": {},
   "outputs": [],
   "source": [
    "analyzer_system_prompt = \"\"\"\n",
    "You are an assistant that helps analyze the contents of many relevant pages from a company website.\n",
    "From your analysis, create a short yet informative summary in some form of brochure about the company for\n",
    "giving an explanation about the company. Respond in markdown (not code blocks). Include details of company culture, customers and careers/jobs if you have\n",
    "the information.\n",
    "\"\"\""
   ]
  },
  {
   "cell_type": "code",
   "execution_count": 17,
   "id": "d3141675",
   "metadata": {},
   "outputs": [],
   "source": [
    "def analyzer_user_prompt(company_name, url):\n",
    "    user_prompt = f\"You are looking at a company called: {company_name}\\n\"\n",
    "    user_prompt += f\"Here are the contents of its landing page and other relevant pages; use this information to build a short brochure of the company in markdown.\\n\"\n",
    "    user_prompt += get_website_details(url)\n",
    "    user_prompt = user_prompt[:5_000] \n",
    "    return user_prompt"
   ]
  },
  {
   "cell_type": "code",
   "execution_count": 18,
   "id": "93a10964",
   "metadata": {},
   "outputs": [],
   "source": [
    "def analyze_website(company_name, url):\n",
    "    response = openai.chat.completions.create(\n",
    "        model=MODEL,\n",
    "        messages=[\n",
    "            {\"role\": \"system\", \"content\": analyzer_system_prompt},\n",
    "            {\"role\": \"user\", \"content\": analyzer_user_prompt(company_name, url)}\n",
    "          ],\n",
    "    )\n",
    "    result = response.choices[0].message.content\n",
    "    return result"
   ]
  },
  {
   "cell_type": "code",
   "execution_count": 19,
   "id": "4711cacd",
   "metadata": {},
   "outputs": [],
   "source": [
    "result = analyze_website(\"Royal Trust Futures\", \"https://royalfx.co.id\")"
   ]
  },
  {
   "cell_type": "code",
   "execution_count": 21,
   "id": "fdae1695",
   "metadata": {},
   "outputs": [
    {
     "data": {
      "text/markdown": [
       "# Royal Trust Futures Brochure\n",
       "\n",
       "## Welcome to Royal Trust Futures (ROYALFX)\n",
       "\n",
       "### Your Trusted Trading Partner\n",
       "At Royal Trust Futures, we pride ourselves on being a licensed official broker recognized by BAPPEBTI. We strive to provide a safe trading environment while empowering our traders with the tools and resources they need to succeed in the financial markets.\n",
       "\n",
       "### Company Profile\n",
       "- **Name:** PT. Royal Trust Futures\n",
       "- **Industry:** Financial Trading\n",
       "- **License:** Registered with BAPPEBTI\n",
       "- **Contact:** [support@royalfx.co.id](mailto:support@royalfx.co.id) | +62 21 30304129\n",
       "\n",
       "### Why Choose Us?\n",
       "- **No Requotes**: Experience seamless trading with our advanced technology, ensuring quick market execution without requotes or price delays.\n",
       "- **24/7 Customer Support**: Our dedicated customer service team is available around the clock via Live Chat to assist you with your trading needs.\n",
       "- **Segregated Accounts**: Your funds are securely held in separate accounts, independently monitored by PT. Kliring Berjangka Indonesia.\n",
       "- **Educational Resources**: We offer daily market analysis, webinars, tutorials, and e-books to enhance your trading education and skills.\n",
       "\n",
       "### Our Offerings\n",
       "#### Trading Products:\n",
       "1. **Forex**: Trade currency pairs to capitalize on price fluctuations.\n",
       "2. **Loco London**: Invest in one of the most stable commodities, ideal for portfolio diversification and protecting wealth.\n",
       "3. **Crude Oil**: Engage in trading one of the world's most sought-after commodities, benefiting from dynamic price movements.\n",
       "\n",
       "#### User-Friendly Platform:\n",
       "Utilize our international platform, MetaTrader 4, compatible with multiple devices, providing quick market execution and a user-friendly interface.\n",
       "\n",
       "### Career Opportunities\n",
       "At Royal Trust Futures, we foster a dynamic and inclusive company culture. We welcome enthusiastic individuals eager to grow in the financial sector. Join us to embark on a rewarding career path where your contribution is valued and recognized.\n",
       "\n",
       "### Join Us Today!\n",
       "Experience the ease of accessing global financial markets with Royal Trust Futures. Sign up now to take the first step towards achieving your trading goals!\n",
       "\n",
       "#### Get Started:\n",
       "- **Open a Live Account**\n",
       "- **Try Our Free Demo Account**\n",
       "- **Explore Educational Resources**\n",
       "\n",
       "For more information, please contact us at [support@royalfx.co.id](mailto:support@royalfx.co.id) or visit our website at [royalfx.co.id](http://royalfx.co.id).\n",
       "\n",
       "---\n",
       "\n",
       "*Trading involves risk and may not be suitable for all investors. Please ensure you understand the risks before you engage in trading.*"
      ],
      "text/plain": [
       "<IPython.core.display.Markdown object>"
      ]
     },
     "metadata": {},
     "output_type": "display_data"
    }
   ],
   "source": [
    "display(Markdown(result))"
   ]
  },
  {
   "cell_type": "code",
   "execution_count": null,
   "id": "2b083894",
   "metadata": {},
   "outputs": [],
   "source": []
  }
 ],
 "metadata": {
  "kernelspec": {
   "display_name": "Python 3 (ipykernel)",
   "language": "python",
   "name": "python3"
  },
  "language_info": {
   "codemirror_mode": {
    "name": "ipython",
    "version": 3
   },
   "file_extension": ".py",
   "mimetype": "text/x-python",
   "name": "python",
   "nbconvert_exporter": "python",
   "pygments_lexer": "ipython3",
   "version": "3.11.5"
  }
 },
 "nbformat": 4,
 "nbformat_minor": 5
}
