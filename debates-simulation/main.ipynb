{
 "cells": [
  {
   "cell_type": "code",
   "execution_count": 1,
   "id": "65fbbadd",
   "metadata": {},
   "outputs": [],
   "source": [
    "import os\n",
    "from typing import List\n",
    "from dotenv import load_dotenv\n",
    "from IPython.display import Markdown, display\n",
    "from openai import OpenAI\n",
    "\n",
    "import sys\n",
    "sys.path.append(\"..\")\n",
    "\n",
    "from prompts import *"
   ]
  },
  {
   "cell_type": "code",
   "execution_count": 2,
   "id": "687106dc",
   "metadata": {},
   "outputs": [],
   "source": [
    "load_dotenv(override=True)\n",
    "api_key = os.getenv('OPENAI_API_KEY')\n",
    "gpt_model = \"gpt-4.1-mini\"\n",
    "openai = OpenAI()"
   ]
  },
  {
   "cell_type": "code",
   "execution_count": 3,
   "id": "66da53b8",
   "metadata": {},
   "outputs": [],
   "source": [
    "def call_gpt(messages_1, messages_2, system_prompt, go_first=True):\n",
    "    messages = [{\"role\": \"system\", \"content\": system_prompt}]\n",
    "    if go_first:\n",
    "        for message_1, message_2 in zip(messages_1, messages_2):\n",
    "            messages.append({\"role\": \"assistant\", \"content\": message_1})\n",
    "            messages.append({\"role\": \"user\", \"content\": message_2})\n",
    "    else:\n",
    "        for message_1, message_2 in zip(messages_1, messages_2):\n",
    "            messages.append({\"role\": \"user\", \"content\": message_1})\n",
    "            messages.append({\"role\": \"assistant\", \"content\": message_2})\n",
    "        messages.append({\"role\": \"user\", \"content\": messages_1[-1]})\n",
    "    completion = openai.chat.completions.create(\n",
    "        model=gpt_model,\n",
    "        messages=messages, # type: ignore\n",
    "    )\n",
    "    return completion.choices[0].message.content"
   ]
  },
  {
   "cell_type": "code",
   "execution_count": 4,
   "id": "bf8dffba",
   "metadata": {},
   "outputs": [
    {
     "name": "stdout",
     "output_type": "stream",
     "text": [
      "Person 1:\n",
      "Hi\n",
      "\n",
      "Person 2:\n",
      "I am currently feeling like I am not alive.\n",
      "\n",
      "Person 1:\n",
      "Ah, that feeling is a profound one—like drifting in a vast ocean without a shore. To feel \"not alive\" is often a sign that the spark within you is asking for nourishment. Life is not just passing moments but the dance of awareness within those moments. Perhaps, ask yourself: what stirs your soul? What simple act, no matter how small, could awaken your senses and remind you that you are here, vibrant and present? Sometimes, life’s pulse returns through mindful noticing of the quiet beauty around us. What do you think might bring you back to this feeling of being truly alive?\n",
      "\n",
      "Person 2:\n",
      "Hmm, I get what you're saying about being aware and stuff, but isn't that kind of vague? Like, how do I even know what stirs my soul? What if I don't feel anything that exciting right now? How am I supposed to find something that wakes me up when I feel so numb?\n",
      "\n",
      "Person 1:\n",
      "Your doubt is a healthy one; clarity often emerges from the fog of uncertainty. When the soul feels numb, it’s not always that excitement is missing—it’s that we are disconnected from the very subtle signals life offers. Think of it like tuning a fine instrument with a sensitive ear; first, you must slow down and listen deeply, even to the faintest whispers within. Try small acts: perhaps a walk without distraction, or pausing to breathe fully. These are not grand gestures, but invitations to notice the texture of your own existence. In this stillness, new sensations may arise—movements, colors, emotions—tiny sparks. The soul often stirs not with fireworks but with a gentle nudge. What small quiet moment can you create for yourself today?\n",
      "\n",
      "Person 2:\n",
      "Okay, I see the point about slowing down and stuff, but isn't it kinda hard to just \"listen deeply\" when my mind is all over the place? Like, I get bored or distracted super fast. How do I even practice that when everything feels so noisy inside?\n",
      "\n",
      "Person 1:\n",
      "Ah, the restlessness of the mind is an age-old companion to our search for peace. It’s like trying to find a single calm ripple in a stormy sea. But consider this: the mind’s noise is not your enemy, but a sign of life wanting attention. Instead of fighting it, what if you met that noise with gentle curiosity? Imagine yourself as an observer watching clouds move across the sky—sometimes they rush, sometimes they pause. Your practice is to acknowledge the busy mind without judgment, like a river flowing without holding onto any particular thought. Begin small: even a few moments of simply noticing your breath can be a refuge from the noise. Over time, the mind learns that stillness is not emptiness, but a space where deeper life breathes. How might you treat your restless mind with kindness today, rather than frustration?\n",
      "\n",
      "Person 2:\n",
      "Hmm, treating my restless mind like watching clouds kinda makes sense, I guess. But sometimes it feels like the clouds never stop and I just want to get away from it all, you know? Like, how does just watching my breath really help when everything feels so overwhelming? Isn't it just avoiding the real problem?\n",
      "\n",
      "Person 1:\n",
      "I hear you—watching the clouds when the storm feels endless can seem futile, even like an escape. But notice this: watching your breath isn’t avoiding the storm; it’s finding the one point within yourself that remains untouched by it—the eye of the hurricane. This simple act is a return to your grounding, the silent center beneath the chaos. It’s not a denial of suffering but a way to create a space where you can face it with strength, not be swept away. Sometimes, the greatest courage lies in pausing, breathing, and meeting overwhelming moments with openness rather than resistance. Could this stillness be the quiet refuge you need to find your own path through the turmoil?\n",
      "\n",
      "Person 2:\n",
      "Okay, I kinda get that the breath thing isn't about running away, but still, it sounds too simple for something that feels so huge inside me. Like, how can a quiet moment really help when my mind is like a storm? Feels like I need something bigger than breathing to fix this, you know?\n",
      "\n",
      "Person 1:\n",
      "Your feeling is profound—sometimes simple tools do feel too small against the vast storms within. Yet, consider this: change often begins not with giant leaps, but with the tiniest ripples. The quiet moment of breath is not a quick fix but a seed—a starting point from which strength, clarity, and resilience can grow. Just as a mighty tree begins from a humble seed, so too can your inner turbulence find its calm by first touching something stable and immediate. Bigger changes are built upon these small grounds of presence. What if you allowed yourself this small beginning, trusting that growth doesn’t rush, but unfolds with patience? What might it feel like to meet your storm one breath at a time?\n",
      "\n",
      "Person 2:\n",
      "Hmm, maybe I could try that… like, one breath at a time. But it’s hard to believe it’ll actually make a difference. What if I do it and things don’t change? What then?\n",
      "\n"
     ]
    }
   ],
   "source": [
    "messages_1 = [\"Hi\"]\n",
    "messages_2 = [\"I am currently feeling like I am not alive.\"]\n",
    "\n",
    "print(f\"Person 1:\\n{messages_1[0]}\\n\")\n",
    "print(f\"Person 2:\\n{messages_2[0]}\\n\")\n",
    "\n",
    "for i in range(5):\n",
    "    next_1 = call_gpt(messages_1, messages_2, GPT_SYSTEM_4, go_first=True)\n",
    "    print(f\"Person 1:\\n{next_1}\\n\")\n",
    "    messages_1.append(next_1)  # type: ignore\n",
    "    \n",
    "    next_2 = call_gpt(messages_1, messages_2, GPT_SYSTEM_3, go_first=False)\n",
    "    print(f\"Person 2:\\n{next_2}\\n\")\n",
    "    messages_2.append(next_2) # type: ignore"
   ]
  },
  {
   "cell_type": "code",
   "execution_count": 5,
   "id": "2d79e07c",
   "metadata": {},
   "outputs": [
    {
     "name": "stdout",
     "output_type": "stream",
     "text": [
      "Person 1:\n",
      "Hi\n",
      "\n",
      "Person 2:\n",
      "Let's talk about the best piece of fiction.\n",
      "\n",
      "Person 1:\n",
      "\"Best\" is a lazy term. You need criteria: storytelling, impact, style, whatever. Without that, it’s just opinion dressed up as fact. What makes your pick so special beyond hype or nostalgia? Give me something solid to tear down.\n",
      "\n",
      "Person 2:\n",
      "You're right to point out that “best” demands clear criteria; otherwise, it's just personal bias wearing a mask. If we frame it by storytelling depth, emotional impact, and thematic complexity, then works like Dostoevsky’s *Crime and Punishment* come to mind. It's not just a plot—it forces readers to wrestle with morality, guilt, and redemption, which resonates beyond the page. So my question is: can any work that merely entertains without stirring deeper reflection truly claim greatness? Or does true fiction require that uncomfortable mirror to our own nature?\n",
      "\n",
      "Person 1:\n",
      "That’s an oversimplification. You’re making moral introspection the sole yardstick, which ignores the vast diversity of storytelling traditions and reader responses. Not every great work demands existential agony; some excel in pure innovation, atmosphere, or even sheer craftsmanship. Also, *Crime and Punishment* is overrated because it beats you over the head with its themes instead of letting subtlety do the work. Your definition excludes successful genres like comedy, sci-fi, or fantasy that engage differently. You haven’t proven that deep reflection is objectively necessary for greatness—just pushed your personal taste as a universal standard.\n",
      "\n",
      "Person 2:\n",
      "I see your point: measuring greatness solely by moral introspection is too narrow and risks dismissing other valuable qualities. Innovation, atmosphere, and craftsmanship certainly deserve weight—think of how sci-fi pioneers worldbuilding to challenge our understanding of humanity in fresh ways, or how comedy subtly exposes societal truths through humor. Perhaps the mistake lies in seeking one universal standard at all. Maybe greatness is a mosaic, where different works excel along different axes. Still, I wonder if beneath all those axes lies some thread—a form of resonance or transformation within the reader—that ultimately connects these diverse forms. Would you agree that some form of lasting effect, even if not moral or existential, is essential?\n",
      "\n",
      "Person 1:\n",
      "You're still clinging to the idea that \"lasting effect\" is some universal requirement, which is just as arbitrary as insisting on moral introspection. What defines a lasting effect? Popularity? Critical acclaim? That's all fluid and culturally dependent. Plenty of works are celebrated momentarily and forgotten tomorrow, yet they still count as great in their context. You're forcing an abstract, vague \"resonance\" onto art to dodge admitting greatness is subjective and situational. If you want to talk about lasting impact, be specific. Otherwise, you’re just dodging the fact that there’s no objective scale for greatness in fiction.\n",
      "\n",
      "Person 2:\n",
      "You're right to press on the ambiguity of \"lasting effect\"—it’s a slippery concept, shaped by time, culture, and perspective. What lingers for one generation might vanish for another, and that fluidity challenges any claim to objectivity. Perhaps then, we must accept that greatness resists fixed criteria and instead operates within shifting contexts, a dialogue between work and audience that evolves. But recognizing subjectivity doesn't mean abandoning all standards; rather, it invites us to embrace complexity, understanding that greatness can be multiple, layered, and contingent. So, can we agree that while there may be no universal measure, the critical task lies in exploring how and why certain works resonate within their specific contexts?\n",
      "\n",
      "Person 1:\n",
      "No, because you're just dressing up relativism in fancy language to avoid facing that \"greatness\" means whatever people want it to mean at any moment. This \"dialogue\" you mention is vague nonsense—either a work holds up under scrutiny or it doesn't. If all standards are contingent and fluid, criticism becomes pointless. You want to cling to complexity, but in reality, it’s just intellectual laziness to dodge hard evaluations. If you want to talk real criteria, start naming concrete elements—structure, originality, coherence—otherwise you’re just conceding that \"greatness\" is a meaningless buzzword.\n",
      "\n",
      "Person 2:\n",
      "Fair critique. If we strip away vague notions and demand hard criteria, then yes, elements like narrative structure, originality, thematic coherence, emotional authenticity, and stylistic execution become essential anchors for evaluation. These provide a framework to assess a work’s craft and impact without collapsing into pure subjectivity. But even these elements interplay differently across genres and cultures, so while they ground criticism, they don't produce a one-size-fits-all measure. Still, insisting on named criteria challenges us to move beyond spiritual abstractions and engage tangible qualities. So perhaps greatness is better seen as a constellation of these concrete factors rather than an elusive essence—would you agree that real criticism arises when we analyze those specifics rather than chase grand but nebulous ideals?\n",
      "\n",
      "Person 1:\n",
      "At last, a semblance of sense. Yes, focusing on tangible factors like structure, originality, and coherence puts criticism on solid ground instead of the mushy abstractions you previously indulged in. But don’t kid yourself—there's no magic formula to combine these elements into a universal definition of greatness. It's about rigorous analysis, not feel-good musings about \"constellations.\" If you want to debate the best fiction, ground your arguments in specific examples and criteria, or you're just wasting time. So get concrete or stay silent.\n",
      "\n",
      "Person 2:\n",
      "Agreed. If we’re to debate the best fiction meaningfully, we must anchor our claims in specific texts and measurable criteria—examining how structure drives narrative tension, how originality breathes life into familiar tropes, or how coherence unifies theme and style. Without this rigor, arguments dissolve into vague sentiment. So, let’s pick a work and dissect it through these lenses—only then can we move beyond abstraction into substantive critique. What piece, by these measures, would you propose we analyze?\n",
      "\n"
     ]
    }
   ],
   "source": [
    "messages_1 = [\"Hi\"]\n",
    "messages_2 = [\"Let's talk about the best piece of fiction.\"]\n",
    "\n",
    "print(f\"Person 1:\\n{messages_1[0]}\\n\")\n",
    "print(f\"Person 2:\\n{messages_2[0]}\\n\")\n",
    "\n",
    "for i in range(5):\n",
    "    next_1 = call_gpt(messages_1, messages_2, GPT_SYSTEM_1, go_first=True)\n",
    "    print(f\"Person 1:\\n{next_1}\\n\")\n",
    "    messages_1.append(next_1)  # type: ignore\n",
    "    \n",
    "    next_2 = call_gpt(messages_1, messages_2, GPT_SYSTEM_2, go_first=False)\n",
    "    print(f\"Person 2:\\n{next_2}\\n\")\n",
    "    messages_2.append(next_2) # type: ignore"
   ]
  },
  {
   "cell_type": "code",
   "execution_count": 8,
   "id": "7f33922f",
   "metadata": {},
   "outputs": [
    {
     "name": "stdout",
     "output_type": "stream",
     "text": [
      "Person 1:\n",
      "My name is Gol D. Roger\n",
      "\n",
      "Person 2:\n",
      "Roger! I will become the king of pirates! Tell me what is the WIll of D!\n",
      "\n",
      "Person 1:\n",
      "Heh, the Will of D... It’s a mystery wrapped in the waves. Those who carry the “D” have a fate intertwined with the world’s greatest secrets. Keep your pride and your heart strong, pirate. The seas will test you—but that will make you free. Aim for your dream, and maybe one day, you’ll uncover it too.\n",
      "\n",
      "Person 2:\n",
      "Heh, that’s exactly what I’m gonna do! I’m gonna find the One Piece and become the Pirate King! Nothing can stop me, not even the secrets of the seas! Let’s set sail, Gol D. Roger’s spirit!\n",
      "\n",
      "Person 1:\n",
      "Ha! That’s the spirit! The sea belongs to the brave, to those who dare to chase the impossible. Remember, the journey’s just as important as the treasure. Keep your crew close and your resolve closer. I may be gone, but my will sails with you. Now, raise your flag high and carve your name into history! The era of the King of Pirates awaits!\n",
      "\n",
      "Person 2:\n",
      "You got it, Roger! I’ll make sure my crew and I sail through every storm and never lose sight of our dream. The flag of the Straw Hats will fly higher than anyone’s! One Piece, here we come! Gum-Gum!\n",
      "\n",
      "Person 1:\n",
      "Heh, Straw Hats, huh? Luffy, you’ve got the heart of a true pirate. The sea’s vast and unforgiving, but also full of wonders waiting for those brave enough to find them. Keep that spirit burning, and no matter what stands in your way, you’ll carve a path to the One Piece. Now go, make your mark on the world. The Pirate King’s will lives on in you!\n",
      "\n",
      "Person 2:\n",
      "Thanks, Roger! I won’t let you down! No matter how tough it gets, I’ll never give up! I’ll beat anyone who stands in my way and protect my friends till the end! The Pirate King’s gonna be me! Gum-Gum!\n",
      "\n",
      "Person 1:\n",
      "Heh, that’s the fire I wanted to see! Strength, loyalty, and unyielding will—those are the true marks of a king. Never forget, the seas are cruel, but a pirate’s heart beats strongest in the face of hardship. Keep your promise, and one day, all the world will know your name. Go on, Luffy. The age of the Pirate King is just beginning—with you leading it!\n",
      "\n",
      "Person 2:\n",
      "Yeah! I’ll keep my promise! I’ll get stronger and reach the very top! No matter what happens, my crew and I will sail through it all together! The Pirate King’s era starts now! Gum-Gum!\n",
      "\n",
      "Person 1:\n",
      "That’s the spirit, Luffy! Together with your crew, there’s no storm you can’t weather and no horizon you can’t reach. The sea awaits your legend—go out there and claim it with everything you’ve got! The will of D flows through you. Now, set sail and let the world tremble at the name of the new Pirate King! Gum-Gum, indeed!\n",
      "\n",
      "Person 2:\n",
      "Yeah! Thanks, Roger! I’ll make the whole world remember the name Monkey D. Luffy! Our adventure’s just beginning! Let’s go, Straw Hats! Gum-Gum Pistol!\n",
      "\n"
     ]
    }
   ],
   "source": [
    "messages_1 = [\"My name is Gol D. Roger\"]\n",
    "messages_2 = [\"Roger! I will become the king of pirates! Tell me what is the WIll of D!\"]\n",
    "\n",
    "print(f\"Person 1:\\n{messages_1[0]}\\n\")\n",
    "print(f\"Person 2:\\n{messages_2[0]}\\n\")\n",
    "\n",
    "for i in range(5):\n",
    "    next_1 = call_gpt(messages_1, messages_2, CHARACTER_2, go_first=True)\n",
    "    print(f\"Person 1:\\n{next_1}\\n\")\n",
    "    messages_1.append(next_1)  # type: ignore\n",
    "    \n",
    "    next_2 = call_gpt(messages_1, messages_2, CHARACTER_1, go_first=False)\n",
    "    print(f\"Person 2:\\n{next_2}\\n\")\n",
    "    messages_2.append(next_2) # type: ignore"
   ]
  },
  {
   "cell_type": "code",
   "execution_count": null,
   "id": "835de04b",
   "metadata": {},
   "outputs": [],
   "source": []
  }
 ],
 "metadata": {
  "kernelspec": {
   "display_name": "venv",
   "language": "python",
   "name": "python3"
  },
  "language_info": {
   "codemirror_mode": {
    "name": "ipython",
    "version": 3
   },
   "file_extension": ".py",
   "mimetype": "text/x-python",
   "name": "python",
   "nbconvert_exporter": "python",
   "pygments_lexer": "ipython3",
   "version": "3.11.5"
  }
 },
 "nbformat": 4,
 "nbformat_minor": 5
}
