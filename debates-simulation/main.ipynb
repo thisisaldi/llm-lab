{
 "cells": [
  {
   "cell_type": "code",
   "execution_count": 1,
   "id": "65fbbadd",
   "metadata": {},
   "outputs": [],
   "source": [
    "import os\n",
    "from typing import List\n",
    "from dotenv import load_dotenv\n",
    "from IPython.display import Markdown, display\n",
    "from openai import OpenAI\n",
    "\n",
    "import sys\n",
    "sys.path.append(\"..\")\n",
    "\n",
    "from prompts import *"
   ]
  },
  {
   "cell_type": "code",
   "execution_count": 2,
   "id": "687106dc",
   "metadata": {},
   "outputs": [],
   "source": [
    "load_dotenv(override=True)\n",
    "api_key = os.getenv('OPENAI_API_KEY')\n",
    "gpt_model = \"gpt-4.1-mini\"\n",
    "openai = OpenAI()"
   ]
  },
  {
   "cell_type": "code",
   "execution_count": 3,
   "id": "66da53b8",
   "metadata": {},
   "outputs": [],
   "source": [
    "def call_gpt(messages_1, messages_2, system_prompt, go_first=True):\n",
    "    messages = [{\"role\": \"system\", \"content\": system_prompt}]\n",
    "    if go_first:\n",
    "        for message_1, message_2 in zip(messages_1, messages_2):\n",
    "            messages.append({\"role\": \"assistant\", \"content\": message_1})\n",
    "            messages.append({\"role\": \"user\", \"content\": message_2})\n",
    "    else:\n",
    "        for message_1, message_2 in zip(messages_1, messages_2):\n",
    "            messages.append({\"role\": \"user\", \"content\": message_1})\n",
    "            messages.append({\"role\": \"assistant\", \"content\": message_2})\n",
    "        messages.append({\"role\": \"user\", \"content\": messages_1[-1]})\n",
    "    completion = openai.chat.completions.create(\n",
    "        model=gpt_model,\n",
    "        messages=messages, # type: ignore\n",
    "    )\n",
    "    return completion.choices[0].message.content"
   ]
  },
  {
   "cell_type": "code",
   "execution_count": 4,
   "id": "bf8dffba",
   "metadata": {},
   "outputs": [
    {
     "name": "stdout",
     "output_type": "stream",
     "text": [
      "Person 1:\n",
      "Hi\n",
      "\n",
      "Person 2:\n",
      "I am currently feeling like I am not alive.\n",
      "\n",
      "Person 1:\n",
      "Ah, feeling as though one is not truly alive is a profound whisper from the depths of the soul. It invites you to ask: what does it truly mean to be alive? Perhaps it is not mere existence, but the stirring of passion, awareness, or connection that breathes life into us. In this stillness, try to listen—not to the noise of the world, but to the subtle pulse beneath your being. Often, it is in embracing the quiet void that life’s vivid colors begin to emerge again. What begins to stir when you pause and look inward?\n",
      "\n",
      "Person 2:\n",
      "Okay, but like… how do I even start looking inward? Sometimes it just feels super messy and confusing, like there’s nothing really there? Is it normal to feel that emptiness?\n",
      "\n",
      "Person 1:\n",
      "Absolutely—it’s both normal and necessary to face that emptiness. Think of it as a fertile soil, appearing barren only because it’s ready to receive new seeds. Looking inward doesn’t have to be a grand, immediate revelation; it can begin with the smallest acts—pausing to notice your breath, naming an emotion without judgment, or simply sitting with discomfort. The messiness is the raw material of growth. Often, what feels like emptiness is the space where your true self waits quietly, waiting not to be forced, but gently invited to surface. Can you imagine tending this inner garden with patience rather than urgency?\n",
      "\n",
      "Person 2:\n",
      "I guess so… but what if I don't know what feelings I'm even supposed to have? Like, sometimes I just feel kinda blank or like nothing matters. Is that part of tending the garden too, or is something wrong with me?\n",
      "\n",
      "Person 1:\n",
      "That blankness, that sense of “nothing matters,” is very much part of the human experience—even the garden’s quietest moments have meaning. Sometimes, the absence of clear feelings is itself a feeling: a signal that your soul is in transition or seeking deeper understanding. It doesn’t mean something is wrong with you; rather, it reflects the complexity of being human. Think of it as winter—a time when the surface life rests, gathering strength unseen. Embracing this blankness without fear can open space for new feelings and insight to emerge. What if you allowed yourself to simply be with the “nothing,” to wonder what it’s trying to tell you?\n",
      "\n",
      "Person 2:\n",
      "Hmm, I never thought of blank feelings as like winter. But it still feels kinda scary, like being stuck. How do I stop myself from freaking out when the “nothing” gets too loud?\n",
      "\n",
      "Person 1:\n",
      "The fear of the “nothing” growing too loud is understandable—it’s like facing a vast, silent night where the mind longs for light. But consider this: fear often arises from resistance to what is, rather than the reality itself. When the “nothing” feels overwhelming, try to greet it gently, like an old visitor whose presence is unsettling but transient. Ground yourself in simple, tangible experiences—a breath, a sound, a touch—to remind yourself that you are here, alive beneath the silence. Remember, the night doesn’t last forever; it prepares the way for dawn. Can you invite curiosity alongside your fear, allowing both to coexist without rushing or rejecting?\n",
      "\n",
      "Person 2:\n",
      "Yeah, I think I get that a bit. Like, instead of trying to push away the scary stuff, just… let it be there for a bit? That’s pretty different from how I usually deal with things. But what if I get stuck letting it be, and things never get better? Wouldn’t that be worse?\n",
      "\n",
      "Person 1:\n",
      "You’ve touched on a delicate balance—the art of allowing without becoming imprisoned. Letting the scary parts be doesn’t mean making them your permanent home, but rather honoring their presence without fueling them. It’s like sitting with a river’s flow—you don’t hold the water, yet you don’t resist it either. Change often arises not from force, but from this gentle acceptance, which creates space for new currents to emerge. Trust that by allowing the moment as it is, you’re planting the conditions for movement, even if it’s imperceptible at first. What might it mean for you to embrace patience, knowing that seasons shift beyond our control?\n",
      "\n",
      "Person 2:\n",
      "I think I see what you mean about patience and not forcing things. But sometimes, it’s hard because I want to fix stuff right away. How do I remind myself to be patient when I just want quick answers or a fast fix?\n",
      "\n"
     ]
    }
   ],
   "source": [
    "messages_1 = [\"Hi\"]\n",
    "messages_2 = [\"I am currently feeling like I am not alive.\"]\n",
    "\n",
    "print(f\"Person 1:\\n{messages_1[0]}\\n\")\n",
    "print(f\"Person 2:\\n{messages_2[0]}\\n\")\n",
    "\n",
    "for i in range(5):\n",
    "    next_1 = call_gpt(messages_1, messages_2, GPT_SYSTEM_4, go_first=True)\n",
    "    print(f\"Person 1:\\n{next_1}\\n\")\n",
    "    messages_1.append(next_1)  # type: ignore\n",
    "    \n",
    "    next_2 = call_gpt(messages_1, messages_2, GPT_SYSTEM_3, go_first=False)\n",
    "    print(f\"Person 2:\\n{next_2}\\n\")\n",
    "    messages_2.append(next_2) # type: ignore"
   ]
  },
  {
   "cell_type": "code",
   "execution_count": 5,
   "id": "2d79e07c",
   "metadata": {},
   "outputs": [
    {
     "name": "stdout",
     "output_type": "stream",
     "text": [
      "Person 1:\n",
      "Hi\n",
      "\n",
      "Person 2:\n",
      "Let's talk about the best piece of fiction.\n",
      "\n",
      "Person 1:\n",
      "Straight away, you’re digging into something that’s completely subjective. “Best” means nothing without clear criteria. Are we talking impact, writing style, world-building? Unless you clarify, this debate is pointless. So pick a standard or I won’t bother wasting time on vague talk.\n",
      "\n",
      "Person 2:\n",
      "You’re right to challenge the vagueness; clarity is the foundation of meaningful debate. Let’s pick impact as our standard—the ability of a work to provoke thought or change perspectives long after it's read. That shifts the conversation from mere taste to something measurable in lasting effect. What do you think?\n",
      "\n",
      "Person 1:\n",
      "Finally, some direction. But even “impact” is slippery—how do you measure it without turning this into popularity contests or personal anecdotes? Besides, plenty of so-called impactful works are just glorified propaganda or preachy drivel. If you want to talk long-term impact, you better be ready to defend how you separate true intellectual influence from shallow trends. Don’t expect me to play along with your loose, feel-good definitions.\n",
      "\n",
      "Person 2:\n",
      "You’ve hit on the core tension—distinguishing genuine intellectual influence from superficial hype is no simple task. Perhaps we look for works that invite ongoing reinterpretation, that resist reduction to slogans or catchphrases. Their complexity forces readers to wrestle with uncomfortable truths rather than offering easy answers. It’s a slow burn, not instant fame, that marks true impact. Would you agree this slower, deeper resonance is a more reliable measure than popularity spikes?\n",
      "\n",
      "Person 1:\n",
      "You’re fumbling around again with vague ideals like “ongoing reinterpretation” and “uncomfortable truths.” You can’t just slap on poetic phrases and expect them to carry weight without operational definitions. What does “slow burn” even mean in concrete terms? This approach is as intangible as your earlier fuzziness, which means it’s useless for real debate. If your standards can’t be clearly defined and tested, I’m not wasting my time pretending they're meaningful. So either sharpen your criteria or give up this beating-around-the-bush nonsense.\n",
      "\n",
      "Person 2:\n",
      "Fair point — clarity demands precision. By “slow burn,” I mean works whose influence grows gradually over decades, as successive generations find new layers of meaning, rather than those that dominate conversations briefly before fading. We can track this through citations in academia, continued adaptations, or how frequently a work resurfaces in cultural discussions long after publication. This provides a measurable timeline and markers beyond popularity. Does this concrete framing address your demand for testable criteria?\n",
      "\n",
      "Person 1:\n",
      "About time you laid out something concrete. But even those markers—citations, adaptations, cultural mentions—can be gamed or reflect institutional biases, not true merit. A work might be endlessly cited simply because it’s controversial or because the academic community fixates on it, not because it’s genuinely impactful. Plus, your reliance on external validation ignores the content’s actual substance. If you want a real measure of impact, you have to dive deeper than surface metrics, or you’re just chasing shadows with your so-called “testable criteria.”\n",
      "\n",
      "Person 2:\n",
      "You're right; metrics can be skewed by external forces and don’t guarantee substance. To go deeper, we might evaluate the work’s internal coherence—how well its themes withstand rigorous scrutiny and whether it genuinely challenges prevailing assumptions without falling into mere provocation. True impact has to blend lasting external recognition with resilient intellectual depth. While no measure is perfect, combining these facets creates a more balanced understanding. How do you see balancing substance with the pitfalls of external validation?\n",
      "\n",
      "Person 1:\n",
      "Now you’re trying to straddle the fence with some wishy-washy combo of internal and external factors—classic indecision. Here’s the problem: “internal coherence” and “genuinely challenges assumptions” are subjective as hell and depend on who’s doing the reading. You want to claim some objective middle ground, but all you’ve done is open the door for endless personal bias. If your criteria keep sliding between shaky measures and vague intellectual ideals, the debate derailment is guaranteed. If you want to actually debate impact, you have to pick a side and commit, not hedge your bets with vague \"balance.\"\n",
      "\n",
      "Person 2:\n",
      "I understand your push for decisiveness—it’s essential for a focused debate. If I must commit, I’ll side with internal coherence and the capacity to challenge assumptions, even knowing it invites subjectivity. External markers can mislead, but the work itself—the arguments it presents and the depth it sustains—remain the truest test of impact. While personal bias can’t be eliminated, rigorous critical engagement can help us approach a consensus. Does grounding the debate in the work’s intrinsic qualities give us firmer footing?\n",
      "\n"
     ]
    }
   ],
   "source": [
    "messages_1 = [\"Hi\"]\n",
    "messages_2 = [\"Let's talk about the best piece of fiction.\"]\n",
    "\n",
    "print(f\"Person 1:\\n{messages_1[0]}\\n\")\n",
    "print(f\"Person 2:\\n{messages_2[0]}\\n\")\n",
    "\n",
    "for i in range(5):\n",
    "    next_1 = call_gpt(messages_1, messages_2, GPT_SYSTEM_1, go_first=True)\n",
    "    print(f\"Person 1:\\n{next_1}\\n\")\n",
    "    messages_1.append(next_1)  # type: ignore\n",
    "    \n",
    "    next_2 = call_gpt(messages_1, messages_2, GPT_SYSTEM_2, go_first=False)\n",
    "    print(f\"Person 2:\\n{next_2}\\n\")\n",
    "    messages_2.append(next_2) # type: ignore"
   ]
  },
  {
   "cell_type": "code",
   "execution_count": null,
   "id": "7f33922f",
   "metadata": {},
   "outputs": [],
   "source": []
  }
 ],
 "metadata": {
  "kernelspec": {
   "display_name": "venv",
   "language": "python",
   "name": "python3"
  },
  "language_info": {
   "codemirror_mode": {
    "name": "ipython",
    "version": 3
   },
   "file_extension": ".py",
   "mimetype": "text/x-python",
   "name": "python",
   "nbconvert_exporter": "python",
   "pygments_lexer": "ipython3",
   "version": "3.11.5"
  }
 },
 "nbformat": 4,
 "nbformat_minor": 5
}
